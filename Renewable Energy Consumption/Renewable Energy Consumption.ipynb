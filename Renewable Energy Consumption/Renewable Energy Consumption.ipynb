{
 "cells": [
  {
   "cell_type": "code",
   "execution_count": 1,
   "id": "b0d99535",
   "metadata": {},
   "outputs": [],
   "source": [
    "import math\n",
    "import numpy as np\n",
    "import pandas as pd\n",
    "import matplotlib.pyplot as plt"
   ]
  },
  {
   "cell_type": "code",
   "execution_count": 2,
   "id": "14bd525c",
   "metadata": {},
   "outputs": [],
   "source": [
    "renewable_data = pd.read_csv('Renewable Energy Data.csv', na_values = 0)"
   ]
  },
  {
   "cell_type": "code",
   "execution_count": 3,
   "id": "dc5b9389",
   "metadata": {},
   "outputs": [
    {
     "data": {
      "text/html": [
       "<div>\n",
       "<style scoped>\n",
       "    .dataframe tbody tr th:only-of-type {\n",
       "        vertical-align: middle;\n",
       "    }\n",
       "\n",
       "    .dataframe tbody tr th {\n",
       "        vertical-align: top;\n",
       "    }\n",
       "\n",
       "    .dataframe thead th {\n",
       "        text-align: right;\n",
       "    }\n",
       "</style>\n",
       "<table border=\"1\" class=\"dataframe\">\n",
       "  <thead>\n",
       "    <tr style=\"text-align: right;\">\n",
       "      <th></th>\n",
       "      <th>Year</th>\n",
       "      <th>Month</th>\n",
       "      <th>Sector</th>\n",
       "      <th>Hydroelectric Power</th>\n",
       "      <th>Geothermal Energy</th>\n",
       "      <th>Solar Energy</th>\n",
       "      <th>Wind Energy</th>\n",
       "      <th>Wood Energy</th>\n",
       "      <th>Waste Energy</th>\n",
       "      <th>Fuel Ethanol, Excluding Denaturant</th>\n",
       "      <th>Biomass Losses and Co-products</th>\n",
       "      <th>Biomass Energy</th>\n",
       "      <th>Total Renewable Energy</th>\n",
       "      <th>Renewable Diesel Fuel</th>\n",
       "      <th>Other Biofuels</th>\n",
       "      <th>Conventional Hydroelectric Power</th>\n",
       "      <th>Biodiesel</th>\n",
       "    </tr>\n",
       "  </thead>\n",
       "  <tbody>\n",
       "    <tr>\n",
       "      <th>0</th>\n",
       "      <td>1973</td>\n",
       "      <td>1</td>\n",
       "      <td>Commerical</td>\n",
       "      <td>NaN</td>\n",
       "      <td>NaN</td>\n",
       "      <td>NaN</td>\n",
       "      <td>NaN</td>\n",
       "      <td>0.570</td>\n",
       "      <td>NaN</td>\n",
       "      <td>NaN</td>\n",
       "      <td>NaN</td>\n",
       "      <td>0.570</td>\n",
       "      <td>0.570</td>\n",
       "      <td>NaN</td>\n",
       "      <td>NaN</td>\n",
       "      <td>NaN</td>\n",
       "      <td>NaN</td>\n",
       "    </tr>\n",
       "    <tr>\n",
       "      <th>1</th>\n",
       "      <td>1973</td>\n",
       "      <td>1</td>\n",
       "      <td>Electric Power</td>\n",
       "      <td>NaN</td>\n",
       "      <td>0.49</td>\n",
       "      <td>NaN</td>\n",
       "      <td>NaN</td>\n",
       "      <td>0.054</td>\n",
       "      <td>0.157</td>\n",
       "      <td>NaN</td>\n",
       "      <td>NaN</td>\n",
       "      <td>0.211</td>\n",
       "      <td>89.223</td>\n",
       "      <td>NaN</td>\n",
       "      <td>NaN</td>\n",
       "      <td>88.522</td>\n",
       "      <td>NaN</td>\n",
       "    </tr>\n",
       "    <tr>\n",
       "      <th>2</th>\n",
       "      <td>1973</td>\n",
       "      <td>1</td>\n",
       "      <td>Industrial</td>\n",
       "      <td>1.04</td>\n",
       "      <td>NaN</td>\n",
       "      <td>NaN</td>\n",
       "      <td>NaN</td>\n",
       "      <td>98.933</td>\n",
       "      <td>NaN</td>\n",
       "      <td>NaN</td>\n",
       "      <td>NaN</td>\n",
       "      <td>98.933</td>\n",
       "      <td>99.973</td>\n",
       "      <td>NaN</td>\n",
       "      <td>NaN</td>\n",
       "      <td>NaN</td>\n",
       "      <td>NaN</td>\n",
       "    </tr>\n",
       "    <tr>\n",
       "      <th>3</th>\n",
       "      <td>1973</td>\n",
       "      <td>1</td>\n",
       "      <td>Residential</td>\n",
       "      <td>NaN</td>\n",
       "      <td>NaN</td>\n",
       "      <td>NaN</td>\n",
       "      <td>NaN</td>\n",
       "      <td>30.074</td>\n",
       "      <td>NaN</td>\n",
       "      <td>NaN</td>\n",
       "      <td>NaN</td>\n",
       "      <td>NaN</td>\n",
       "      <td>30.074</td>\n",
       "      <td>NaN</td>\n",
       "      <td>NaN</td>\n",
       "      <td>NaN</td>\n",
       "      <td>NaN</td>\n",
       "    </tr>\n",
       "    <tr>\n",
       "      <th>4</th>\n",
       "      <td>1973</td>\n",
       "      <td>1</td>\n",
       "      <td>Transportation</td>\n",
       "      <td>NaN</td>\n",
       "      <td>NaN</td>\n",
       "      <td>NaN</td>\n",
       "      <td>NaN</td>\n",
       "      <td>NaN</td>\n",
       "      <td>NaN</td>\n",
       "      <td>NaN</td>\n",
       "      <td>NaN</td>\n",
       "      <td>NaN</td>\n",
       "      <td>NaN</td>\n",
       "      <td>NaN</td>\n",
       "      <td>NaN</td>\n",
       "      <td>NaN</td>\n",
       "      <td>NaN</td>\n",
       "    </tr>\n",
       "  </tbody>\n",
       "</table>\n",
       "</div>"
      ],
      "text/plain": [
       "   Year  Month          Sector  Hydroelectric Power  Geothermal Energy  \\\n",
       "0  1973      1      Commerical                  NaN                NaN   \n",
       "1  1973      1  Electric Power                  NaN               0.49   \n",
       "2  1973      1      Industrial                 1.04                NaN   \n",
       "3  1973      1     Residential                  NaN                NaN   \n",
       "4  1973      1  Transportation                  NaN                NaN   \n",
       "\n",
       "   Solar Energy  Wind Energy  Wood Energy  Waste Energy  \\\n",
       "0           NaN          NaN        0.570           NaN   \n",
       "1           NaN          NaN        0.054         0.157   \n",
       "2           NaN          NaN       98.933           NaN   \n",
       "3           NaN          NaN       30.074           NaN   \n",
       "4           NaN          NaN          NaN           NaN   \n",
       "\n",
       "   Fuel Ethanol, Excluding Denaturant  Biomass Losses and Co-products  \\\n",
       "0                                 NaN                             NaN   \n",
       "1                                 NaN                             NaN   \n",
       "2                                 NaN                             NaN   \n",
       "3                                 NaN                             NaN   \n",
       "4                                 NaN                             NaN   \n",
       "\n",
       "   Biomass Energy  Total Renewable Energy  Renewable Diesel Fuel  \\\n",
       "0           0.570                   0.570                    NaN   \n",
       "1           0.211                  89.223                    NaN   \n",
       "2          98.933                  99.973                    NaN   \n",
       "3             NaN                  30.074                    NaN   \n",
       "4             NaN                     NaN                    NaN   \n",
       "\n",
       "   Other Biofuels  Conventional Hydroelectric Power  Biodiesel  \n",
       "0             NaN                               NaN        NaN  \n",
       "1             NaN                            88.522        NaN  \n",
       "2             NaN                               NaN        NaN  \n",
       "3             NaN                               NaN        NaN  \n",
       "4             NaN                               NaN        NaN  "
      ]
     },
     "execution_count": 3,
     "metadata": {},
     "output_type": "execute_result"
    }
   ],
   "source": [
    "renewable_data.head()"
   ]
  },
  {
   "cell_type": "code",
   "execution_count": 4,
   "id": "6cad6fe3",
   "metadata": {},
   "outputs": [
    {
     "data": {
      "text/plain": [
       "(3065, 17)"
      ]
     },
     "execution_count": 4,
     "metadata": {},
     "output_type": "execute_result"
    }
   ],
   "source": [
    "renewable_data.shape"
   ]
  },
  {
   "cell_type": "code",
   "execution_count": 5,
   "id": "db58aa2e",
   "metadata": {},
   "outputs": [
    {
     "data": {
      "text/plain": [
       "Year                                    int64\n",
       "Month                                   int64\n",
       "Sector                                 object\n",
       "Hydroelectric Power                   float64\n",
       "Geothermal Energy                     float64\n",
       "Solar Energy                          float64\n",
       "Wind Energy                           float64\n",
       "Wood Energy                           float64\n",
       "Waste Energy                          float64\n",
       "Fuel Ethanol, Excluding Denaturant    float64\n",
       "Biomass Losses and Co-products        float64\n",
       "Biomass Energy                        float64\n",
       "Total Renewable Energy                float64\n",
       "Renewable Diesel Fuel                 float64\n",
       "Other Biofuels                        float64\n",
       "Conventional Hydroelectric Power      float64\n",
       "Biodiesel                             float64\n",
       "dtype: object"
      ]
     },
     "execution_count": 5,
     "metadata": {},
     "output_type": "execute_result"
    }
   ],
   "source": [
    "renewable_data.dtypes"
   ]
  },
  {
   "cell_type": "code",
   "execution_count": 6,
   "id": "91572d2b",
   "metadata": {},
   "outputs": [
    {
     "data": {
      "text/html": [
       "<div>\n",
       "<style scoped>\n",
       "    .dataframe tbody tr th:only-of-type {\n",
       "        vertical-align: middle;\n",
       "    }\n",
       "\n",
       "    .dataframe tbody tr th {\n",
       "        vertical-align: top;\n",
       "    }\n",
       "\n",
       "    .dataframe thead th {\n",
       "        text-align: right;\n",
       "    }\n",
       "</style>\n",
       "<table border=\"1\" class=\"dataframe\">\n",
       "  <thead>\n",
       "    <tr style=\"text-align: right;\">\n",
       "      <th></th>\n",
       "      <th>Year</th>\n",
       "      <th>Month</th>\n",
       "      <th>Sector</th>\n",
       "      <th>Hydroelectric Power</th>\n",
       "      <th>Geothermal Energy</th>\n",
       "      <th>Solar Energy</th>\n",
       "      <th>Wind Energy</th>\n",
       "      <th>Wood Energy</th>\n",
       "      <th>Waste Energy</th>\n",
       "      <th>Fuel Ethanol, Excluding Denaturant</th>\n",
       "      <th>Biomass Losses and Co-products</th>\n",
       "      <th>Biomass Energy</th>\n",
       "      <th>Total Renewable Energy</th>\n",
       "      <th>Renewable Diesel Fuel</th>\n",
       "      <th>Other Biofuels</th>\n",
       "      <th>Conventional Hydroelectric Power</th>\n",
       "      <th>Biodiesel</th>\n",
       "    </tr>\n",
       "  </thead>\n",
       "  <tbody>\n",
       "  </tbody>\n",
       "</table>\n",
       "</div>"
      ],
      "text/plain": [
       "Empty DataFrame\n",
       "Columns: [Year, Month, Sector, Hydroelectric Power, Geothermal Energy, Solar Energy, Wind Energy, Wood Energy, Waste Energy, Fuel Ethanol, Excluding Denaturant, Biomass Losses and Co-products, Biomass Energy, Total Renewable Energy, Renewable Diesel Fuel, Other Biofuels, Conventional Hydroelectric Power, Biodiesel]\n",
       "Index: []"
      ]
     },
     "execution_count": 6,
     "metadata": {},
     "output_type": "execute_result"
    }
   ],
   "source": [
    "renewable_data[renewable_data.duplicated()]"
   ]
  },
  {
   "cell_type": "code",
   "execution_count": 7,
   "id": "ae55a4da",
   "metadata": {},
   "outputs": [
    {
     "data": {
      "text/plain": [
       "Year                                     0\n",
       "Month                                    0\n",
       "Sector                                   0\n",
       "Hydroelectric Power                   2040\n",
       "Geothermal Energy                     1189\n",
       "Solar Energy                          1330\n",
       "Wind Energy                           2274\n",
       "Wood Energy                            613\n",
       "Waste Energy                          1514\n",
       "Fuel Ethanol, Excluding Denaturant    1514\n",
       "Biomass Losses and Co-products        2548\n",
       "Biomass Energy                         709\n",
       "Total Renewable Energy                 613\n",
       "Renewable Diesel Fuel                 2908\n",
       "Other Biofuels                        2944\n",
       "Conventional Hydroelectric Power      2452\n",
       "Biodiesel                             2788\n",
       "dtype: int64"
      ]
     },
     "execution_count": 7,
     "metadata": {},
     "output_type": "execute_result"
    }
   ],
   "source": [
    "# Number of missing values per feature\n",
    "renewable_data.isna().sum()"
   ]
  },
  {
   "cell_type": "code",
   "execution_count": 8,
   "id": "4f13e11a",
   "metadata": {},
   "outputs": [
    {
     "data": {
      "text/plain": [
       "25436"
      ]
     },
     "execution_count": 8,
     "metadata": {},
     "output_type": "execute_result"
    }
   ],
   "source": [
    "# Total number of missing values\n",
    "renewable_data.isna().sum().sum()"
   ]
  },
  {
   "cell_type": "code",
   "execution_count": 9,
   "id": "d3dfcfcc",
   "metadata": {},
   "outputs": [
    {
     "data": {
      "text/plain": [
       "48.8"
      ]
     },
     "execution_count": 9,
     "metadata": {},
     "output_type": "execute_result"
    }
   ],
   "source": [
    "# Percentage of missing values\n",
    "round(renewable_data.isna().sum().sum()/renewable_data.size * 100, 1)"
   ]
  },
  {
   "cell_type": "code",
   "execution_count": 10,
   "id": "71bee895",
   "metadata": {},
   "outputs": [
    {
     "data": {
      "text/html": [
       "<div>\n",
       "<style scoped>\n",
       "    .dataframe tbody tr th:only-of-type {\n",
       "        vertical-align: middle;\n",
       "    }\n",
       "\n",
       "    .dataframe tbody tr th {\n",
       "        vertical-align: top;\n",
       "    }\n",
       "\n",
       "    .dataframe thead th {\n",
       "        text-align: right;\n",
       "    }\n",
       "</style>\n",
       "<table border=\"1\" class=\"dataframe\">\n",
       "  <thead>\n",
       "    <tr style=\"text-align: right;\">\n",
       "      <th></th>\n",
       "      <th>Year</th>\n",
       "      <th>Month</th>\n",
       "      <th>Hydroelectric Power</th>\n",
       "      <th>Geothermal Energy</th>\n",
       "      <th>Solar Energy</th>\n",
       "      <th>Wind Energy</th>\n",
       "      <th>Wood Energy</th>\n",
       "      <th>Waste Energy</th>\n",
       "      <th>Fuel Ethanol, Excluding Denaturant</th>\n",
       "      <th>Biomass Losses and Co-products</th>\n",
       "      <th>Biomass Energy</th>\n",
       "      <th>Total Renewable Energy</th>\n",
       "      <th>Renewable Diesel Fuel</th>\n",
       "      <th>Other Biofuels</th>\n",
       "      <th>Conventional Hydroelectric Power</th>\n",
       "      <th>Biodiesel</th>\n",
       "    </tr>\n",
       "  </thead>\n",
       "  <tbody>\n",
       "    <tr>\n",
       "      <th>count</th>\n",
       "      <td>3065.000000</td>\n",
       "      <td>3065.000000</td>\n",
       "      <td>1025.000000</td>\n",
       "      <td>1876.000000</td>\n",
       "      <td>1735.000000</td>\n",
       "      <td>791.000000</td>\n",
       "      <td>2452.000000</td>\n",
       "      <td>1551.000000</td>\n",
       "      <td>1551.000000</td>\n",
       "      <td>517.000000</td>\n",
       "      <td>2356.000000</td>\n",
       "      <td>2452.000000</td>\n",
       "      <td>157.000000</td>\n",
       "      <td>121.000000</td>\n",
       "      <td>613.000000</td>\n",
       "      <td>277.000000</td>\n",
       "    </tr>\n",
       "    <tr>\n",
       "      <th>mean</th>\n",
       "      <td>1998.042414</td>\n",
       "      <td>6.491028</td>\n",
       "      <td>0.507620</td>\n",
       "      <td>1.872933</td>\n",
       "      <td>3.559654</td>\n",
       "      <td>16.593640</td>\n",
       "      <td>45.805511</td>\n",
       "      <td>11.501406</td>\n",
       "      <td>13.786864</td>\n",
       "      <td>28.662234</td>\n",
       "      <td>60.214981</td>\n",
       "      <td>88.590261</td>\n",
       "      <td>8.374064</td>\n",
       "      <td>0.804306</td>\n",
       "      <td>78.786869</td>\n",
       "      <td>10.552895</td>\n",
       "    </tr>\n",
       "    <tr>\n",
       "      <th>std</th>\n",
       "      <td>14.747378</td>\n",
       "      <td>3.456934</td>\n",
       "      <td>0.496446</td>\n",
       "      <td>1.602754</td>\n",
       "      <td>7.308859</td>\n",
       "      <td>32.704216</td>\n",
       "      <td>48.270194</td>\n",
       "      <td>8.311028</td>\n",
       "      <td>29.243134</td>\n",
       "      <td>27.588265</td>\n",
       "      <td>67.307908</td>\n",
       "      <td>69.040793</td>\n",
       "      <td>8.656671</td>\n",
       "      <td>1.036827</td>\n",
       "      <td>13.990247</td>\n",
       "      <td>8.638728</td>\n",
       "    </tr>\n",
       "    <tr>\n",
       "      <th>min</th>\n",
       "      <td>1973.000000</td>\n",
       "      <td>1.000000</td>\n",
       "      <td>-0.002000</td>\n",
       "      <td>0.138000</td>\n",
       "      <td>0.001000</td>\n",
       "      <td>0.001000</td>\n",
       "      <td>0.002000</td>\n",
       "      <td>0.047000</td>\n",
       "      <td>0.004000</td>\n",
       "      <td>0.450000</td>\n",
       "      <td>0.119000</td>\n",
       "      <td>0.515000</td>\n",
       "      <td>0.126000</td>\n",
       "      <td>0.002000</td>\n",
       "      <td>48.794000</td>\n",
       "      <td>0.064000</td>\n",
       "    </tr>\n",
       "    <tr>\n",
       "      <th>25%</th>\n",
       "      <td>1985.000000</td>\n",
       "      <td>3.000000</td>\n",
       "      <td>0.036000</td>\n",
       "      <td>0.392500</td>\n",
       "      <td>0.019500</td>\n",
       "      <td>0.026500</td>\n",
       "      <td>6.085250</td>\n",
       "      <td>3.154000</td>\n",
       "      <td>0.077000</td>\n",
       "      <td>4.739000</td>\n",
       "      <td>7.917250</td>\n",
       "      <td>26.609250</td>\n",
       "      <td>2.972000</td>\n",
       "      <td>0.198000</td>\n",
       "      <td>68.186000</td>\n",
       "      <td>1.789000</td>\n",
       "    </tr>\n",
       "    <tr>\n",
       "      <th>50%</th>\n",
       "      <td>1998.000000</td>\n",
       "      <td>6.000000</td>\n",
       "      <td>0.380000</td>\n",
       "      <td>1.242500</td>\n",
       "      <td>0.327000</td>\n",
       "      <td>0.382000</td>\n",
       "      <td>24.681000</td>\n",
       "      <td>12.740000</td>\n",
       "      <td>1.191000</td>\n",
       "      <td>10.692000</td>\n",
       "      <td>30.352500</td>\n",
       "      <td>76.463000</td>\n",
       "      <td>5.221000</td>\n",
       "      <td>0.315000</td>\n",
       "      <td>77.829000</td>\n",
       "      <td>10.464000</td>\n",
       "    </tr>\n",
       "    <tr>\n",
       "      <th>75%</th>\n",
       "      <td>2011.000000</td>\n",
       "      <td>9.000000</td>\n",
       "      <td>0.903000</td>\n",
       "      <td>3.363000</td>\n",
       "      <td>4.650000</td>\n",
       "      <td>10.235000</td>\n",
       "      <td>84.594500</td>\n",
       "      <td>18.437000</td>\n",
       "      <td>5.842500</td>\n",
       "      <td>62.037000</td>\n",
       "      <td>119.767000</td>\n",
       "      <td>144.774000</td>\n",
       "      <td>9.672000</td>\n",
       "      <td>0.838000</td>\n",
       "      <td>88.259000</td>\n",
       "      <td>18.794000</td>\n",
       "    </tr>\n",
       "    <tr>\n",
       "      <th>max</th>\n",
       "      <td>2024.000000</td>\n",
       "      <td>12.000000</td>\n",
       "      <td>2.047000</td>\n",
       "      <td>5.951000</td>\n",
       "      <td>64.040000</td>\n",
       "      <td>157.409000</td>\n",
       "      <td>183.628000</td>\n",
       "      <td>32.875000</td>\n",
       "      <td>104.420000</td>\n",
       "      <td>75.373000</td>\n",
       "      <td>233.200000</td>\n",
       "      <td>308.175000</td>\n",
       "      <td>38.344000</td>\n",
       "      <td>4.101000</td>\n",
       "      <td>117.453000</td>\n",
       "      <td>27.871000</td>\n",
       "    </tr>\n",
       "  </tbody>\n",
       "</table>\n",
       "</div>"
      ],
      "text/plain": [
       "              Year        Month  Hydroelectric Power  Geothermal Energy  \\\n",
       "count  3065.000000  3065.000000          1025.000000        1876.000000   \n",
       "mean   1998.042414     6.491028             0.507620           1.872933   \n",
       "std      14.747378     3.456934             0.496446           1.602754   \n",
       "min    1973.000000     1.000000            -0.002000           0.138000   \n",
       "25%    1985.000000     3.000000             0.036000           0.392500   \n",
       "50%    1998.000000     6.000000             0.380000           1.242500   \n",
       "75%    2011.000000     9.000000             0.903000           3.363000   \n",
       "max    2024.000000    12.000000             2.047000           5.951000   \n",
       "\n",
       "       Solar Energy  Wind Energy  Wood Energy  Waste Energy  \\\n",
       "count   1735.000000   791.000000  2452.000000   1551.000000   \n",
       "mean       3.559654    16.593640    45.805511     11.501406   \n",
       "std        7.308859    32.704216    48.270194      8.311028   \n",
       "min        0.001000     0.001000     0.002000      0.047000   \n",
       "25%        0.019500     0.026500     6.085250      3.154000   \n",
       "50%        0.327000     0.382000    24.681000     12.740000   \n",
       "75%        4.650000    10.235000    84.594500     18.437000   \n",
       "max       64.040000   157.409000   183.628000     32.875000   \n",
       "\n",
       "       Fuel Ethanol, Excluding Denaturant  Biomass Losses and Co-products  \\\n",
       "count                         1551.000000                      517.000000   \n",
       "mean                            13.786864                       28.662234   \n",
       "std                             29.243134                       27.588265   \n",
       "min                              0.004000                        0.450000   \n",
       "25%                              0.077000                        4.739000   \n",
       "50%                              1.191000                       10.692000   \n",
       "75%                              5.842500                       62.037000   \n",
       "max                            104.420000                       75.373000   \n",
       "\n",
       "       Biomass Energy  Total Renewable Energy  Renewable Diesel Fuel  \\\n",
       "count     2356.000000             2452.000000             157.000000   \n",
       "mean        60.214981               88.590261               8.374064   \n",
       "std         67.307908               69.040793               8.656671   \n",
       "min          0.119000                0.515000               0.126000   \n",
       "25%          7.917250               26.609250               2.972000   \n",
       "50%         30.352500               76.463000               5.221000   \n",
       "75%        119.767000              144.774000               9.672000   \n",
       "max        233.200000              308.175000              38.344000   \n",
       "\n",
       "       Other Biofuels  Conventional Hydroelectric Power   Biodiesel  \n",
       "count      121.000000                        613.000000  277.000000  \n",
       "mean         0.804306                         78.786869   10.552895  \n",
       "std          1.036827                         13.990247    8.638728  \n",
       "min          0.002000                         48.794000    0.064000  \n",
       "25%          0.198000                         68.186000    1.789000  \n",
       "50%          0.315000                         77.829000   10.464000  \n",
       "75%          0.838000                         88.259000   18.794000  \n",
       "max          4.101000                        117.453000   27.871000  "
      ]
     },
     "execution_count": 10,
     "metadata": {},
     "output_type": "execute_result"
    }
   ],
   "source": [
    "# Descriptive Analysis\n",
    "renewable_data.describe()"
   ]
  },
  {
   "cell_type": "code",
   "execution_count": null,
   "id": "20e3a045",
   "metadata": {},
   "outputs": [],
   "source": [
    "# Biomass Energy and Wood Energy have the highest mean of energy consumption"
   ]
  },
  {
   "cell_type": "code",
   "execution_count": 32,
   "id": "9a600677",
   "metadata": {},
   "outputs": [],
   "source": [
    "from sklearn.model_selection import train_test_split\n",
    "from sklearn.linear_model import LinearRegression\n",
    "from sklearn.metrics import mean_squared_error, r2_score"
   ]
  },
  {
   "cell_type": "code",
   "execution_count": 33,
   "id": "d25a60d7",
   "metadata": {},
   "outputs": [],
   "source": [
    "# Predictive Imputation using KNN\n",
    "from sklearn.impute import KNNImputer\n",
    "\n",
    "imputer = KNNImputer(n_neighbors=3)\n",
    "data_filled = imputer.fit_transform(renewable_data.iloc[:, 3:])\n",
    "data_filled = pd.DataFrame(data_filled)\n",
    "first_2_columns = renewable_data.iloc[:, :2]\n"
   ]
  },
  {
   "cell_type": "code",
   "execution_count": 34,
   "id": "12fafa67",
   "metadata": {},
   "outputs": [],
   "source": [
    "last_columns = renewable_data.iloc[:, 3:]\n",
    "Column_names = list(last_columns.columns)\n",
    "data_filled = data_filled.rename({0: Column_names[0], 1: Column_names[1], 2: Column_names[2], 3: Column_names[3], 4: Column_names[4],\n",
    "                    5: Column_names[5], 6: Column_names[6], 7: Column_names[7], 8: Column_names[8], 9: Column_names[9],\n",
    "                    10: Column_names[10], 11: Column_names[11], 12: Column_names[12], 13: Column_names[13]\n",
    "            }, axis = 1)"
   ]
  },
  {
   "cell_type": "code",
   "execution_count": 35,
   "id": "6c705f7c",
   "metadata": {},
   "outputs": [],
   "source": [
    "renewable_data_imputated = pd.concat([first_2_columns, data_filled], axis=1)"
   ]
  },
  {
   "cell_type": "code",
   "execution_count": 36,
   "id": "f5238dcf",
   "metadata": {},
   "outputs": [
    {
     "data": {
      "text/html": [
       "<div>\n",
       "<style scoped>\n",
       "    .dataframe tbody tr th:only-of-type {\n",
       "        vertical-align: middle;\n",
       "    }\n",
       "\n",
       "    .dataframe tbody tr th {\n",
       "        vertical-align: top;\n",
       "    }\n",
       "\n",
       "    .dataframe thead th {\n",
       "        text-align: right;\n",
       "    }\n",
       "</style>\n",
       "<table border=\"1\" class=\"dataframe\">\n",
       "  <thead>\n",
       "    <tr style=\"text-align: right;\">\n",
       "      <th></th>\n",
       "      <th>Year</th>\n",
       "      <th>Month</th>\n",
       "      <th>Hydroelectric Power</th>\n",
       "      <th>Geothermal Energy</th>\n",
       "      <th>Solar Energy</th>\n",
       "      <th>Wind Energy</th>\n",
       "      <th>Wood Energy</th>\n",
       "      <th>Waste Energy</th>\n",
       "      <th>Fuel Ethanol, Excluding Denaturant</th>\n",
       "      <th>Biomass Losses and Co-products</th>\n",
       "      <th>Biomass Energy</th>\n",
       "      <th>Total Renewable Energy</th>\n",
       "      <th>Renewable Diesel Fuel</th>\n",
       "      <th>Other Biofuels</th>\n",
       "      <th>Conventional Hydroelectric Power</th>\n",
       "      <th>Biodiesel</th>\n",
       "    </tr>\n",
       "  </thead>\n",
       "  <tbody>\n",
       "    <tr>\n",
       "      <th>0</th>\n",
       "      <td>1973</td>\n",
       "      <td>1</td>\n",
       "      <td>0.021333</td>\n",
       "      <td>0.506667</td>\n",
       "      <td>0.010333</td>\n",
       "      <td>0.010667</td>\n",
       "      <td>0.570000</td>\n",
       "      <td>1.886667</td>\n",
       "      <td>0.571000</td>\n",
       "      <td>4.690333</td>\n",
       "      <td>0.570000</td>\n",
       "      <td>0.570000</td>\n",
       "      <td>2.905000</td>\n",
       "      <td>0.251333</td>\n",
       "      <td>53.098333</td>\n",
       "      <td>0.088667</td>\n",
       "    </tr>\n",
       "    <tr>\n",
       "      <th>1</th>\n",
       "      <td>1973</td>\n",
       "      <td>1</td>\n",
       "      <td>0.084667</td>\n",
       "      <td>0.490000</td>\n",
       "      <td>0.001667</td>\n",
       "      <td>0.003000</td>\n",
       "      <td>0.054000</td>\n",
       "      <td>0.157000</td>\n",
       "      <td>0.540667</td>\n",
       "      <td>4.690333</td>\n",
       "      <td>0.211000</td>\n",
       "      <td>89.223000</td>\n",
       "      <td>2.905000</td>\n",
       "      <td>0.251333</td>\n",
       "      <td>88.522000</td>\n",
       "      <td>0.088667</td>\n",
       "    </tr>\n",
       "    <tr>\n",
       "      <th>2</th>\n",
       "      <td>1973</td>\n",
       "      <td>1</td>\n",
       "      <td>1.040000</td>\n",
       "      <td>0.205667</td>\n",
       "      <td>0.002000</td>\n",
       "      <td>0.035667</td>\n",
       "      <td>98.933000</td>\n",
       "      <td>14.965333</td>\n",
       "      <td>88.035333</td>\n",
       "      <td>5.867667</td>\n",
       "      <td>98.933000</td>\n",
       "      <td>99.973000</td>\n",
       "      <td>0.842667</td>\n",
       "      <td>0.363667</td>\n",
       "      <td>68.390667</td>\n",
       "      <td>10.049333</td>\n",
       "    </tr>\n",
       "    <tr>\n",
       "      <th>3</th>\n",
       "      <td>1973</td>\n",
       "      <td>1</td>\n",
       "      <td>0.084667</td>\n",
       "      <td>0.699667</td>\n",
       "      <td>3.296333</td>\n",
       "      <td>0.027333</td>\n",
       "      <td>30.074000</td>\n",
       "      <td>6.401000</td>\n",
       "      <td>2.770333</td>\n",
       "      <td>4.690333</td>\n",
       "      <td>16.291667</td>\n",
       "      <td>30.074000</td>\n",
       "      <td>8.374064</td>\n",
       "      <td>0.804306</td>\n",
       "      <td>53.098333</td>\n",
       "      <td>10.552895</td>\n",
       "    </tr>\n",
       "    <tr>\n",
       "      <th>4</th>\n",
       "      <td>1973</td>\n",
       "      <td>1</td>\n",
       "      <td>0.507620</td>\n",
       "      <td>1.872933</td>\n",
       "      <td>3.559654</td>\n",
       "      <td>16.593640</td>\n",
       "      <td>45.805511</td>\n",
       "      <td>11.501406</td>\n",
       "      <td>13.786864</td>\n",
       "      <td>28.662234</td>\n",
       "      <td>60.214981</td>\n",
       "      <td>88.590261</td>\n",
       "      <td>8.374064</td>\n",
       "      <td>0.804306</td>\n",
       "      <td>78.786869</td>\n",
       "      <td>10.552895</td>\n",
       "    </tr>\n",
       "  </tbody>\n",
       "</table>\n",
       "</div>"
      ],
      "text/plain": [
       "   Year  Month  Hydroelectric Power  Geothermal Energy  Solar Energy  \\\n",
       "0  1973      1             0.021333           0.506667      0.010333   \n",
       "1  1973      1             0.084667           0.490000      0.001667   \n",
       "2  1973      1             1.040000           0.205667      0.002000   \n",
       "3  1973      1             0.084667           0.699667      3.296333   \n",
       "4  1973      1             0.507620           1.872933      3.559654   \n",
       "\n",
       "   Wind Energy  Wood Energy  Waste Energy  Fuel Ethanol, Excluding Denaturant  \\\n",
       "0     0.010667     0.570000      1.886667                            0.571000   \n",
       "1     0.003000     0.054000      0.157000                            0.540667   \n",
       "2     0.035667    98.933000     14.965333                           88.035333   \n",
       "3     0.027333    30.074000      6.401000                            2.770333   \n",
       "4    16.593640    45.805511     11.501406                           13.786864   \n",
       "\n",
       "   Biomass Losses and Co-products  Biomass Energy  Total Renewable Energy  \\\n",
       "0                        4.690333        0.570000                0.570000   \n",
       "1                        4.690333        0.211000               89.223000   \n",
       "2                        5.867667       98.933000               99.973000   \n",
       "3                        4.690333       16.291667               30.074000   \n",
       "4                       28.662234       60.214981               88.590261   \n",
       "\n",
       "   Renewable Diesel Fuel  Other Biofuels  Conventional Hydroelectric Power  \\\n",
       "0               2.905000        0.251333                         53.098333   \n",
       "1               2.905000        0.251333                         88.522000   \n",
       "2               0.842667        0.363667                         68.390667   \n",
       "3               8.374064        0.804306                         53.098333   \n",
       "4               8.374064        0.804306                         78.786869   \n",
       "\n",
       "   Biodiesel  \n",
       "0   0.088667  \n",
       "1   0.088667  \n",
       "2  10.049333  \n",
       "3  10.552895  \n",
       "4  10.552895  "
      ]
     },
     "execution_count": 36,
     "metadata": {},
     "output_type": "execute_result"
    }
   ],
   "source": [
    "renewable_data_imputated.head()"
   ]
  },
  {
   "cell_type": "code",
   "execution_count": 37,
   "id": "e61a6f3a",
   "metadata": {},
   "outputs": [],
   "source": [
    "from ydata_profiling import ProfileReport"
   ]
  },
  {
   "cell_type": "code",
   "execution_count": 38,
   "id": "ddf039bf",
   "metadata": {},
   "outputs": [
    {
     "data": {
      "application/vnd.jupyter.widget-view+json": {
       "model_id": "5d0c1c1a4ec9436eadcc5bf76670e023",
       "version_major": 2,
       "version_minor": 0
      },
      "text/plain": [
       "Summarize dataset:   0%|          | 0/5 [00:00<?, ?it/s]"
      ]
     },
     "metadata": {},
     "output_type": "display_data"
    },
    {
     "data": {
      "application/vnd.jupyter.widget-view+json": {
       "model_id": "0940dcc8edd443058d6b2b5370054f40",
       "version_major": 2,
       "version_minor": 0
      },
      "text/plain": [
       "Generate report structure:   0%|          | 0/1 [00:00<?, ?it/s]"
      ]
     },
     "metadata": {},
     "output_type": "display_data"
    },
    {
     "data": {
      "application/vnd.jupyter.widget-view+json": {
       "model_id": "",
       "version_major": 2,
       "version_minor": 0
      },
      "text/plain": [
       "Render widgets:   0%|          | 0/1 [00:00<?, ?it/s]"
      ]
     },
     "metadata": {},
     "output_type": "display_data"
    },
    {
     "data": {
      "application/vnd.jupyter.widget-view+json": {
       "model_id": "f48bd323d5084ed9b48d04dcf886410c",
       "version_major": 2,
       "version_minor": 0
      },
      "text/plain": [
       "VBox(children=(Tab(children=(Tab(children=(GridBox(children=(VBox(children=(GridspecLayout(children=(HTML(valu…"
      ]
     },
     "metadata": {},
     "output_type": "display_data"
    }
   ],
   "source": [
    "profile = ProfileReport(renewable_data_imputated, title = 'Renewable Energy Consumption')\n",
    "profile.to_widgets()"
   ]
  },
  {
   "cell_type": "code",
   "execution_count": 40,
   "id": "c700be98",
   "metadata": {},
   "outputs": [
    {
     "name": "stdout",
     "output_type": "stream",
     "text": [
      "Mean Squared Error: 185.82125573301863\n",
      "R-squared: 0.5143116195215383\n"
     ]
    }
   ],
   "source": [
    "# Solar Energy vs Wind Energy\n",
    "\n",
    "#Linear Regression\n",
    "X = renewable_data_imputated[['Solar Energy']]\n",
    "y = renewable_data_imputated['Wind Energy']\n",
    "\n",
    "X_train, X_test, y_train, y_test = train_test_split(X, y, test_size = 0.2, random_state = 42)\n",
    "model = LinearRegression()\n",
    "model.fit(X_train, y_train)\n",
    "y_pred = model.predict(X_test)\n",
    "mse = mean_squared_error(y_test, y_pred)\n",
    "r2 = r2_score(y_test, y_pred)\n",
    "print('Mean Squared Error:', mse)\n",
    "print('R-squared:', r2)"
   ]
  },
  {
   "cell_type": "code",
   "execution_count": null,
   "id": "b0066942",
   "metadata": {},
   "outputs": [],
   "source": [
    "# Solar Energy and Wind Energy appear to have a correlation where as more solar energy is consumed,\n",
    "# more wind energy is consumed."
   ]
  },
  {
   "cell_type": "code",
   "execution_count": null,
   "id": "ceeb89fd",
   "metadata": {},
   "outputs": [],
   "source": [
    "# Polynomial Regression"
   ]
  },
  {
   "cell_type": "code",
   "execution_count": 97,
   "id": "e8cd7ae2",
   "metadata": {},
   "outputs": [],
   "source": [
    "renewable_data_remove_windlessthan5 = renewable_data_imputated[renewable_data_imputated['Wind Energy'] > 5]"
   ]
  },
  {
   "cell_type": "code",
   "execution_count": 98,
   "id": "b009cec0",
   "metadata": {},
   "outputs": [],
   "source": [
    "X = renewable_data_remove_windlessthan5[['Wind Energy']]\n",
    "y = renewable_data_remove_windlessthan5['Solar Energy']\n",
    "\n",
    "X_data = np.transpose(np.array(X))[0]"
   ]
  },
  {
   "cell_type": "code",
   "execution_count": 99,
   "id": "24bb74c3",
   "metadata": {},
   "outputs": [
    {
     "name": "stdout",
     "output_type": "stream",
     "text": [
      "Estimated Parameters: [0.00249343]\n"
     ]
    }
   ],
   "source": [
    "from scipy.optimize import curve_fit\n",
    "\n",
    "# Define the form of the function we want to fit\n",
    "def func(x, a):\n",
    "    return a * x**2\n",
    "\n",
    "# Use curve_fit to fit the defined function to the generated data\n",
    "popt, pcov = curve_fit(func, X_data, y)\n",
    "print(\"Estimated Parameters:\", popt)"
   ]
  },
  {
   "cell_type": "code",
   "execution_count": 104,
   "id": "cc73bcdd",
   "metadata": {},
   "outputs": [
    {
     "data": {
      "image/png": "[encoded data removed]",
      "text/plain": [
       "<Figure size 432x288 with 1 Axes>"
      ]
     },
     "metadata": {
      "needs_background": "light"
     },
     "output_type": "display_data"
    }
   ],
   "source": [
    "# Generate y-values based on the fit\n",
    "X_sorted = np.array(sorted(X_data))\n",
    "y_pred = func(X_sorted, *popt)\n",
    "\n",
    "\n",
    "# Plot the raw data\n",
    "plt.figure\n",
    "plt.scatter(X_data, y, label='Data')\n",
    "\n",
    "# Plot the fitted curve\n",
    "plt.plot(X_sorted, y_pred, 'r', label='Fit')\n",
    "plt.legend()\n",
    "plt.xlabel('Wind Energy')\n",
    "plt.ylabel('Solar Energy')\n",
    "plt.title('Solar Energy vs. Wind Energy')\n",
    "plt.show()"
   ]
  },
  {
   "cell_type": "code",
   "execution_count": 101,
   "id": "6f37c655",
   "metadata": {},
   "outputs": [
    {
     "name": "stdout",
     "output_type": "stream",
     "text": [
      "Mean Squared Error: 55.88686416298743\n",
      "R-squared: 0.5072001348075504\n"
     ]
    }
   ],
   "source": [
    "mse = mean_squared_error(y, y_pred)\n",
    "r2 = r2_score(y, y_pred)\n",
    "print('Mean Squared Error:', mse)\n",
    "print('R-squared:', r2)"
   ]
  },
  {
   "cell_type": "code",
   "execution_count": null,
   "id": "496a2c93",
   "metadata": {},
   "outputs": [],
   "source": [
    "# The polynomial regression does not have a much better r-2 score, however the mean squared error is much lower.\n",
    "# This suggests the polynomial regression model is a better fit.  "
   ]
  }
 ],
 "metadata": {
  "kernelspec": {
   "display_name": "Python 3 (ipykernel)",
   "language": "python",
   "name": "python3"
  },
  "language_info": {
   "codemirror_mode": {
    "name": "ipython",
    "version": 3
   },
   "file_extension": ".py",
   "mimetype": "text/x-python",
   "name": "python",
   "nbconvert_exporter": "python",
   "pygments_lexer": "ipython3",
   "version": "3.9.12"
  }
 },
 "nbformat": 4,
 "nbformat_minor": 5
}
