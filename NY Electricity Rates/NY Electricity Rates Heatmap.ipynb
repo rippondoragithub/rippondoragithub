{
 "cells": [
  {
   "cell_type": "code",
   "execution_count": 1,
   "id": "8c27ec67",
   "metadata": {},
   "outputs": [],
   "source": [
    "import pandas as pd\n",
    "import numpy as np\n",
    "import matplotlib.pyplot as plt\n",
    "import seaborn as sns\n",
    "import geopandas as gpd"
   ]
  },
  {
   "cell_type": "code",
   "execution_count": 9,
   "id": "fbf1148c",
   "metadata": {},
   "outputs": [],
   "source": [
    "df = pd.read_csv('electricity_rates_zipcodes_2020.csv')"
   ]
  },
  {
   "cell_type": "code",
   "execution_count": 10,
   "id": "796b559e",
   "metadata": {},
   "outputs": [],
   "source": [
    "New_York_rates = df.loc[df['state'] == 'NY']"
   ]
  },
  {
   "cell_type": "code",
   "execution_count": 11,
   "id": "a9a584fe",
   "metadata": {},
   "outputs": [
    {
     "data": {
      "text/html": [
       "<div>\n",
       "<style scoped>\n",
       "    .dataframe tbody tr th:only-of-type {\n",
       "        vertical-align: middle;\n",
       "    }\n",
       "\n",
       "    .dataframe tbody tr th {\n",
       "        vertical-align: top;\n",
       "    }\n",
       "\n",
       "    .dataframe thead th {\n",
       "        text-align: right;\n",
       "    }\n",
       "</style>\n",
       "<table border=\"1\" class=\"dataframe\">\n",
       "  <thead>\n",
       "    <tr style=\"text-align: right;\">\n",
       "      <th></th>\n",
       "      <th>zip</th>\n",
       "      <th>eiaid</th>\n",
       "      <th>utility_name</th>\n",
       "      <th>state</th>\n",
       "      <th>service_type</th>\n",
       "      <th>ownership</th>\n",
       "      <th>comm_rate</th>\n",
       "      <th>ind_rate</th>\n",
       "      <th>res_rate</th>\n",
       "    </tr>\n",
       "  </thead>\n",
       "  <tbody>\n",
       "    <tr>\n",
       "      <th>4427</th>\n",
       "      <td>10516</td>\n",
       "      <td>3249</td>\n",
       "      <td>Central Hudson Gas &amp; Elec Corp</td>\n",
       "      <td>NY</td>\n",
       "      <td>Bundled</td>\n",
       "      <td>Investor Owned</td>\n",
       "      <td>0.132296</td>\n",
       "      <td>0.099311</td>\n",
       "      <td>0.175737</td>\n",
       "    </tr>\n",
       "    <tr>\n",
       "      <th>4428</th>\n",
       "      <td>12466</td>\n",
       "      <td>3249</td>\n",
       "      <td>Central Hudson Gas &amp; Elec Corp</td>\n",
       "      <td>NY</td>\n",
       "      <td>Bundled</td>\n",
       "      <td>Investor Owned</td>\n",
       "      <td>0.132296</td>\n",
       "      <td>0.099311</td>\n",
       "      <td>0.175737</td>\n",
       "    </tr>\n",
       "    <tr>\n",
       "      <th>4429</th>\n",
       "      <td>12076</td>\n",
       "      <td>3249</td>\n",
       "      <td>Central Hudson Gas &amp; Elec Corp</td>\n",
       "      <td>NY</td>\n",
       "      <td>Bundled</td>\n",
       "      <td>Investor Owned</td>\n",
       "      <td>0.132296</td>\n",
       "      <td>0.099311</td>\n",
       "      <td>0.175737</td>\n",
       "    </tr>\n",
       "    <tr>\n",
       "      <th>4430</th>\n",
       "      <td>12015</td>\n",
       "      <td>3249</td>\n",
       "      <td>Central Hudson Gas &amp; Elec Corp</td>\n",
       "      <td>NY</td>\n",
       "      <td>Bundled</td>\n",
       "      <td>Investor Owned</td>\n",
       "      <td>0.132296</td>\n",
       "      <td>0.099311</td>\n",
       "      <td>0.175737</td>\n",
       "    </tr>\n",
       "    <tr>\n",
       "      <th>4431</th>\n",
       "      <td>12463</td>\n",
       "      <td>3249</td>\n",
       "      <td>Central Hudson Gas &amp; Elec Corp</td>\n",
       "      <td>NY</td>\n",
       "      <td>Bundled</td>\n",
       "      <td>Investor Owned</td>\n",
       "      <td>0.132296</td>\n",
       "      <td>0.099311</td>\n",
       "      <td>0.175737</td>\n",
       "    </tr>\n",
       "    <tr>\n",
       "      <th>...</th>\n",
       "      <td>...</td>\n",
       "      <td>...</td>\n",
       "      <td>...</td>\n",
       "      <td>...</td>\n",
       "      <td>...</td>\n",
       "      <td>...</td>\n",
       "      <td>...</td>\n",
       "      <td>...</td>\n",
       "      <td>...</td>\n",
       "    </tr>\n",
       "    <tr>\n",
       "      <th>40501</th>\n",
       "      <td>14542</td>\n",
       "      <td>16183</td>\n",
       "      <td>Rochester Gas &amp; Electric Corp</td>\n",
       "      <td>NY</td>\n",
       "      <td>Delivery</td>\n",
       "      <td>Investor Owned</td>\n",
       "      <td>0.052974</td>\n",
       "      <td>0.036541</td>\n",
       "      <td>0.078492</td>\n",
       "    </tr>\n",
       "    <tr>\n",
       "      <th>40502</th>\n",
       "      <td>14639</td>\n",
       "      <td>16183</td>\n",
       "      <td>Rochester Gas &amp; Electric Corp</td>\n",
       "      <td>NY</td>\n",
       "      <td>Delivery</td>\n",
       "      <td>Investor Owned</td>\n",
       "      <td>0.052974</td>\n",
       "      <td>0.036541</td>\n",
       "      <td>0.078492</td>\n",
       "    </tr>\n",
       "    <tr>\n",
       "      <th>40503</th>\n",
       "      <td>14638</td>\n",
       "      <td>16183</td>\n",
       "      <td>Rochester Gas &amp; Electric Corp</td>\n",
       "      <td>NY</td>\n",
       "      <td>Delivery</td>\n",
       "      <td>Investor Owned</td>\n",
       "      <td>0.052974</td>\n",
       "      <td>0.036541</td>\n",
       "      <td>0.078492</td>\n",
       "    </tr>\n",
       "    <tr>\n",
       "      <th>40504</th>\n",
       "      <td>14413</td>\n",
       "      <td>16183</td>\n",
       "      <td>Rochester Gas &amp; Electric Corp</td>\n",
       "      <td>NY</td>\n",
       "      <td>Delivery</td>\n",
       "      <td>Investor Owned</td>\n",
       "      <td>0.052974</td>\n",
       "      <td>0.036541</td>\n",
       "      <td>0.078492</td>\n",
       "    </tr>\n",
       "    <tr>\n",
       "      <th>40505</th>\n",
       "      <td>14410</td>\n",
       "      <td>16183</td>\n",
       "      <td>Rochester Gas &amp; Electric Corp</td>\n",
       "      <td>NY</td>\n",
       "      <td>Delivery</td>\n",
       "      <td>Investor Owned</td>\n",
       "      <td>0.052974</td>\n",
       "      <td>0.036541</td>\n",
       "      <td>0.078492</td>\n",
       "    </tr>\n",
       "  </tbody>\n",
       "</table>\n",
       "<p>4853 rows × 9 columns</p>\n",
       "</div>"
      ],
      "text/plain": [
       "         zip  eiaid                    utility_name state service_type  \\\n",
       "4427   10516   3249  Central Hudson Gas & Elec Corp    NY      Bundled   \n",
       "4428   12466   3249  Central Hudson Gas & Elec Corp    NY      Bundled   \n",
       "4429   12076   3249  Central Hudson Gas & Elec Corp    NY      Bundled   \n",
       "4430   12015   3249  Central Hudson Gas & Elec Corp    NY      Bundled   \n",
       "4431   12463   3249  Central Hudson Gas & Elec Corp    NY      Bundled   \n",
       "...      ...    ...                             ...   ...          ...   \n",
       "40501  14542  16183   Rochester Gas & Electric Corp    NY     Delivery   \n",
       "40502  14639  16183   Rochester Gas & Electric Corp    NY     Delivery   \n",
       "40503  14638  16183   Rochester Gas & Electric Corp    NY     Delivery   \n",
       "40504  14413  16183   Rochester Gas & Electric Corp    NY     Delivery   \n",
       "40505  14410  16183   Rochester Gas & Electric Corp    NY     Delivery   \n",
       "\n",
       "            ownership  comm_rate  ind_rate  res_rate  \n",
       "4427   Investor Owned   0.132296  0.099311  0.175737  \n",
       "4428   Investor Owned   0.132296  0.099311  0.175737  \n",
       "4429   Investor Owned   0.132296  0.099311  0.175737  \n",
       "4430   Investor Owned   0.132296  0.099311  0.175737  \n",
       "4431   Investor Owned   0.132296  0.099311  0.175737  \n",
       "...               ...        ...       ...       ...  \n",
       "40501  Investor Owned   0.052974  0.036541  0.078492  \n",
       "40502  Investor Owned   0.052974  0.036541  0.078492  \n",
       "40503  Investor Owned   0.052974  0.036541  0.078492  \n",
       "40504  Investor Owned   0.052974  0.036541  0.078492  \n",
       "40505  Investor Owned   0.052974  0.036541  0.078492  \n",
       "\n",
       "[4853 rows x 9 columns]"
      ]
     },
     "execution_count": 11,
     "metadata": {},
     "output_type": "execute_result"
    }
   ],
   "source": [
    "New_York_rates"
   ]
  },
  {
   "cell_type": "code",
   "execution_count": 12,
   "id": "f51556ec",
   "metadata": {},
   "outputs": [
    {
     "data": {
      "text/plain": [
       "Text(0.5, 0, 'Electricity Rate')"
      ]
     },
     "execution_count": 12,
     "metadata": {},
     "output_type": "execute_result"
    },
    {
     "data": {
      "image/png": "[encoded data removed]",
      "text/plain": [
       "<Figure size 432x288 with 1 Axes>"
      ]
     },
     "metadata": {
      "needs_background": "light"
     },
     "output_type": "display_data"
    }
   ],
   "source": [
    "plt.figure()\n",
    "plt.boxplot(New_York_rates['res_rate'], vert = False)\n",
    "plt.title('Boxplot of Residential Electricity Rates in New York')\n",
    "plt.xlabel('Electricity Rate')"
   ]
  },
  {
   "cell_type": "code",
   "execution_count": 13,
   "id": "4675f6d4",
   "metadata": {},
   "outputs": [],
   "source": [
    "df_county_zipcodes = pd.read_csv('New_York_State_ZIP_Codes-County_FIPS_Cross-Reference.csv')"
   ]
  },
  {
   "cell_type": "code",
   "execution_count": 14,
   "id": "a95c43d6",
   "metadata": {},
   "outputs": [],
   "source": [
    "df_county_zipcodes = df_county_zipcodes[['County Name', 'ZIP Code']]"
   ]
  },
  {
   "cell_type": "code",
   "execution_count": 15,
   "id": "77f21e97",
   "metadata": {},
   "outputs": [
    {
     "data": {
      "text/html": [
       "<div>\n",
       "<style scoped>\n",
       "    .dataframe tbody tr th:only-of-type {\n",
       "        vertical-align: middle;\n",
       "    }\n",
       "\n",
       "    .dataframe tbody tr th {\n",
       "        vertical-align: top;\n",
       "    }\n",
       "\n",
       "    .dataframe thead th {\n",
       "        text-align: right;\n",
       "    }\n",
       "</style>\n",
       "<table border=\"1\" class=\"dataframe\">\n",
       "  <thead>\n",
       "    <tr style=\"text-align: right;\">\n",
       "      <th></th>\n",
       "      <th>County Name</th>\n",
       "      <th>ZIP Code</th>\n",
       "    </tr>\n",
       "  </thead>\n",
       "  <tbody>\n",
       "    <tr>\n",
       "      <th>0</th>\n",
       "      <td>Albany</td>\n",
       "      <td>12007</td>\n",
       "    </tr>\n",
       "    <tr>\n",
       "      <th>1</th>\n",
       "      <td>Albany</td>\n",
       "      <td>12009</td>\n",
       "    </tr>\n",
       "    <tr>\n",
       "      <th>2</th>\n",
       "      <td>Albany</td>\n",
       "      <td>12023</td>\n",
       "    </tr>\n",
       "    <tr>\n",
       "      <th>3</th>\n",
       "      <td>Albany</td>\n",
       "      <td>12041</td>\n",
       "    </tr>\n",
       "    <tr>\n",
       "      <th>4</th>\n",
       "      <td>Albany</td>\n",
       "      <td>12045</td>\n",
       "    </tr>\n",
       "    <tr>\n",
       "      <th>...</th>\n",
       "      <td>...</td>\n",
       "      <td>...</td>\n",
       "    </tr>\n",
       "    <tr>\n",
       "      <th>2538</th>\n",
       "      <td>Yates</td>\n",
       "      <td>14561</td>\n",
       "    </tr>\n",
       "    <tr>\n",
       "      <th>2539</th>\n",
       "      <td>Yates</td>\n",
       "      <td>14837</td>\n",
       "    </tr>\n",
       "    <tr>\n",
       "      <th>2540</th>\n",
       "      <td>Yates</td>\n",
       "      <td>14842</td>\n",
       "    </tr>\n",
       "    <tr>\n",
       "      <th>2541</th>\n",
       "      <td>Yates</td>\n",
       "      <td>14857</td>\n",
       "    </tr>\n",
       "    <tr>\n",
       "      <th>2542</th>\n",
       "      <td>Yates</td>\n",
       "      <td>14878</td>\n",
       "    </tr>\n",
       "  </tbody>\n",
       "</table>\n",
       "<p>2543 rows × 2 columns</p>\n",
       "</div>"
      ],
      "text/plain": [
       "     County Name  ZIP Code\n",
       "0         Albany     12007\n",
       "1         Albany     12009\n",
       "2         Albany     12023\n",
       "3         Albany     12041\n",
       "4         Albany     12045\n",
       "...          ...       ...\n",
       "2538       Yates     14561\n",
       "2539       Yates     14837\n",
       "2540       Yates     14842\n",
       "2541       Yates     14857\n",
       "2542       Yates     14878\n",
       "\n",
       "[2543 rows x 2 columns]"
      ]
     },
     "execution_count": 15,
     "metadata": {},
     "output_type": "execute_result"
    }
   ],
   "source": [
    "df_county_zipcodes"
   ]
  },
  {
   "cell_type": "code",
   "execution_count": 16,
   "id": "bd151f7a",
   "metadata": {},
   "outputs": [],
   "source": [
    "new_df = New_York_rates.merge(df_county_zipcodes, how = 'left', left_on = 'zip', right_on = 'ZIP Code')"
   ]
  },
  {
   "cell_type": "code",
   "execution_count": 17,
   "id": "16f78ec1",
   "metadata": {},
   "outputs": [],
   "source": [
    "new_df = new_df.drop('ZIP Code', axis = 1)"
   ]
  },
  {
   "cell_type": "code",
   "execution_count": 18,
   "id": "fb47b2d0",
   "metadata": {},
   "outputs": [
    {
     "data": {
      "text/plain": [
       "County\n",
       "Suffolk         0.302730\n",
       "Kings           0.218325\n",
       "Nassau          0.218325\n",
       "Bronx           0.218325\n",
       "New York        0.218325\n",
       "Queens          0.218325\n",
       "Richmond        0.218325\n",
       "Westchester     0.181936\n",
       "Rockland        0.154417\n",
       "Orange          0.149541\n",
       "Ulster          0.135415\n",
       "Dutchess        0.133252\n",
       "Putnam          0.129191\n",
       "Greene          0.128683\n",
       "Sullivan        0.113328\n",
       "Albany          0.112158\n",
       "Columbia        0.107163\n",
       "Schoharie       0.106289\n",
       "Fulton          0.104996\n",
       "Warren          0.104996\n",
       "Jefferson       0.104996\n",
       "Lewis           0.104996\n",
       "St. Lawrence    0.104776\n",
       "Orleans         0.104695\n",
       "Oswego          0.104677\n",
       "Schenectady     0.104469\n",
       "Montgomery      0.104418\n",
       "Niagara         0.102903\n",
       "Monroe          0.102803\n",
       "Onondaga        0.102474\n",
       "Name: res_rate, dtype: float64"
      ]
     },
     "execution_count": 18,
     "metadata": {},
     "output_type": "execute_result"
    }
   ],
   "source": [
    "grouped_by_county = new_df.groupby('County Name')['res_rate'].mean().rename_axis(['County'])\n",
    "grouped_by_county.nlargest(30)"
   ]
  },
  {
   "cell_type": "code",
   "execution_count": 19,
   "id": "92077083",
   "metadata": {},
   "outputs": [
    {
     "data": {
      "text/plain": [
       "County\n",
       "Oneida         0.102441\n",
       "Saratoga       0.102140\n",
       "Herkimer       0.102044\n",
       "Rensselaer     0.101933\n",
       "Genesee        0.101889\n",
       "Franklin       0.101624\n",
       "Hamilton       0.101163\n",
       "Washington     0.100843\n",
       "Erie           0.100630\n",
       "Livingston     0.100447\n",
       "Cattaraugus    0.099991\n",
       "Essex          0.099699\n",
       "Wayne          0.099657\n",
       "Ontario        0.099623\n",
       "Cortland       0.099601\n",
       "Chautauqua     0.099185\n",
       "Allegany       0.099111\n",
       "Cayuga         0.098739\n",
       "Delaware       0.098515\n",
       "Wyoming        0.098438\n",
       "Madison        0.098168\n",
       "Otsego         0.096690\n",
       "Clinton        0.095555\n",
       "Yates          0.095102\n",
       "Tompkins       0.094880\n",
       "Chenango       0.094880\n",
       "Seneca         0.094428\n",
       "Steuben        0.093347\n",
       "Schuyler       0.092857\n",
       "Broome         0.091049\n",
       "Chemung        0.090204\n",
       "Tioga          0.090153\n",
       "Name: res_rate, dtype: float64"
      ]
     },
     "execution_count": 19,
     "metadata": {},
     "output_type": "execute_result"
    }
   ],
   "source": [
    "grouped_by_county.nsmallest(32).sort_values(ascending = False)"
   ]
  },
  {
   "cell_type": "code",
   "execution_count": 22,
   "id": "0695b4e2",
   "metadata": {},
   "outputs": [
    {
     "data": {
      "text/plain": [
       "County\n",
       "Albany         0.112158\n",
       "Allegany       0.099111\n",
       "Bronx          0.218325\n",
       "Broome         0.091049\n",
       "Cattaraugus    0.099991\n",
       "                 ...   \n",
       "Washington     0.100843\n",
       "Wayne          0.099657\n",
       "Westchester    0.181936\n",
       "Wyoming        0.098438\n",
       "Yates          0.095102\n",
       "Name: res_rate, Length: 62, dtype: float64"
      ]
     },
     "execution_count": 22,
     "metadata": {},
     "output_type": "execute_result"
    }
   ],
   "source": [
    "grouped_by_county"
   ]
  },
  {
   "cell_type": "code",
   "execution_count": 32,
   "id": "91da65ae",
   "metadata": {},
   "outputs": [],
   "source": [
    "shapefile_path = 'Counties_Shoreline'\n",
    "ny_counties = gpd.read_file(shapefile_path)"
   ]
  },
  {
   "cell_type": "code",
   "execution_count": 33,
   "id": "33446de1",
   "metadata": {},
   "outputs": [
    {
     "data": {
      "image/png": "[encoded data removed]",
      "text/plain": [
       "<Figure size 1080x720 with 2 Axes>"
      ]
     },
     "metadata": {
      "needs_background": "light"
     },
     "output_type": "display_data"
    }
   ],
   "source": [
    "# Merge electricity rates with the geospatial data\n",
    "ny_counties = ny_counties.merge(grouped_by_county, left_on='NAME', right_on='County', how='left')\n",
    "\n",
    "# Plotting the heat map\n",
    "fig, ax = plt.subplots(1, 1, figsize=(15, 10))\n",
    "ny_counties.plot(column='res_rate', ax=ax, legend=True, cmap='OrRd', \n",
    "                 legend_kwds={'label': \"Mean Residential Electricity Rate ($/kWh)\",\n",
    "                              'orientation': \"horizontal\"})\n",
    "plt.title('Mean Residential Electricity Rates by County in New York State')\n",
    "plt.show()"
   ]
  },
  {
   "cell_type": "code",
   "execution_count": null,
   "id": "c73a48b4",
   "metadata": {},
   "outputs": [],
   "source": []
  }
 ],
 "metadata": {
  "kernelspec": {
   "display_name": "Python 3 (ipykernel)",
   "language": "python",
   "name": "python3"
  },
  "language_info": {
   "codemirror_mode": {
    "name": "ipython",
    "version": 3
   },
   "file_extension": ".py",
   "mimetype": "text/x-python",
   "name": "python",
   "nbconvert_exporter": "python",
   "pygments_lexer": "ipython3",
   "version": "3.9.12"
  }
 },
 "nbformat": 4,
 "nbformat_minor": 5
}
