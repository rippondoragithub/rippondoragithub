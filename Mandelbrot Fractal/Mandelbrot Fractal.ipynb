{
 "cells": [
  {
   "cell_type": "code",
   "execution_count": 80,
   "id": "d1332d05",
   "metadata": {},
   "outputs": [],
   "source": [
    "import numpy as np\n",
    "import math\n",
    "import matplotlib.pyplot as plt"
   ]
  },
  {
   "cell_type": "code",
   "execution_count": 91,
   "id": "0ae5e941",
   "metadata": {},
   "outputs": [],
   "source": [
    "def mandelbrot(n, N_max, threshold):\n",
    "    \n",
    "    \n",
    "    #make a nxn grid\n",
    "    x = np.linspace(-2, 1, n)\n",
    "    y = np.linspace(-1.5, 1.5, n)\n",
    "    xv, yv = np.meshgrid(x, y, indexing='ij')\n",
    "\n",
    "    c = xv + yv*1j\n",
    "    \n",
    "    \n",
    "    #Mandelbrot interation and forming mask for which points are in the set where abs(z) < threshold\n",
    "    z_grid = np.zeros((len(c), len(c)))\n",
    "\n",
    "    for a in range(0, len(c)):\n",
    "        for b in range(0, len(c[a])):\n",
    "\n",
    "            z = 0\n",
    "            for j in range(0, N_max):\n",
    "                z = z**2 + c[a][b]\n",
    "\n",
    "            if math.sqrt(z.real**2 + z.imag**2) < threshold:\n",
    "                z_grid[a][b] = True\n",
    "            else:\n",
    "                z_grid[a][b] = False\n",
    "\n",
    "    plt.imshow(z_grid.T, extent=[-2, 1, -1.5, 1.5])\n",
    "    plt.gray()\n",
    "    plt.savefig('mandelbrot.png')\n",
    "    \n",
    "    return"
   ]
  },
  {
   "cell_type": "code",
   "execution_count": 92,
   "id": "13396b45",
   "metadata": {},
   "outputs": [
    {
     "name": "stderr",
     "output_type": "stream",
     "text": [
      "/var/folders/94/c0kjs2s13g7blwzmfzk283gw0000gn/T/ipykernel_20343/3771540091.py:20: RuntimeWarning: overflow encountered in cdouble_scalars\n",
      "  z = z**2 + c[a][b]\n",
      "/var/folders/94/c0kjs2s13g7blwzmfzk283gw0000gn/T/ipykernel_20343/3771540091.py:20: RuntimeWarning: invalid value encountered in cdouble_scalars\n",
      "  z = z**2 + c[a][b]\n",
      "/var/folders/94/c0kjs2s13g7blwzmfzk283gw0000gn/T/ipykernel_20343/3771540091.py:22: RuntimeWarning: overflow encountered in double_scalars\n",
      "  if math.sqrt(z.real**2 + z.imag**2) < threshold:\n"
     ]
    },
    {
     "data": {
      "image/png": "[encoded data removed]",
      "text/plain": [
       "<Figure size 432x288 with 1 Axes>"
      ]
     },
     "metadata": {
      "needs_background": "light"
     },
     "output_type": "display_data"
    }
   ],
   "source": [
    "mandelbrot(300, 50, 50)"
   ]
  }
 ],
 "metadata": {
  "kernelspec": {
   "display_name": "Python 3 (ipykernel)",
   "language": "python",
   "name": "python3"
  },
  "language_info": {
   "codemirror_mode": {
    "name": "ipython",
    "version": 3
   },
   "file_extension": ".py",
   "mimetype": "text/x-python",
   "name": "python",
   "nbconvert_exporter": "python",
   "pygments_lexer": "ipython3",
   "version": "3.9.12"
  }
 },
 "nbformat": 4,
 "nbformat_minor": 5
}
